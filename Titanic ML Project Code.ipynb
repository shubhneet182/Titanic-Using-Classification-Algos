{
 "cells": [
  {
   "cell_type": "markdown",
   "metadata": {},
   "source": [
    "### Objective: To build a predictive model that answers the question: “what sorts of people were more likely to survive?” using passenger data of legendary Titanic ship. "
   ]
  },
  {
   "cell_type": "code",
   "execution_count": 1,
   "metadata": {},
   "outputs": [],
   "source": [
    "import pandas as pd\n",
    "import numpy as np"
   ]
  },
  {
   "cell_type": "code",
   "execution_count": 2,
   "metadata": {},
   "outputs": [],
   "source": [
    "df = pd.read_csv(\"./Downloads/train.csv\")"
   ]
  },
  {
   "cell_type": "code",
   "execution_count": 3,
   "metadata": {},
   "outputs": [
    {
     "data": {
      "text/html": [
       "<div>\n",
       "<style scoped>\n",
       "    .dataframe tbody tr th:only-of-type {\n",
       "        vertical-align: middle;\n",
       "    }\n",
       "\n",
       "    .dataframe tbody tr th {\n",
       "        vertical-align: top;\n",
       "    }\n",
       "\n",
       "    .dataframe thead th {\n",
       "        text-align: right;\n",
       "    }\n",
       "</style>\n",
       "<table border=\"1\" class=\"dataframe\">\n",
       "  <thead>\n",
       "    <tr style=\"text-align: right;\">\n",
       "      <th></th>\n",
       "      <th>PassengerId</th>\n",
       "      <th>Survived</th>\n",
       "      <th>Pclass</th>\n",
       "      <th>Name</th>\n",
       "      <th>Sex</th>\n",
       "      <th>Age</th>\n",
       "      <th>SibSp</th>\n",
       "      <th>Parch</th>\n",
       "      <th>Ticket</th>\n",
       "      <th>Fare</th>\n",
       "      <th>Cabin</th>\n",
       "      <th>Embarked</th>\n",
       "    </tr>\n",
       "  </thead>\n",
       "  <tbody>\n",
       "    <tr>\n",
       "      <td>0</td>\n",
       "      <td>1</td>\n",
       "      <td>0</td>\n",
       "      <td>3</td>\n",
       "      <td>Braund, Mr. Owen Harris</td>\n",
       "      <td>male</td>\n",
       "      <td>22.0</td>\n",
       "      <td>1</td>\n",
       "      <td>0</td>\n",
       "      <td>A/5 21171</td>\n",
       "      <td>7.2500</td>\n",
       "      <td>NaN</td>\n",
       "      <td>S</td>\n",
       "    </tr>\n",
       "    <tr>\n",
       "      <td>1</td>\n",
       "      <td>2</td>\n",
       "      <td>1</td>\n",
       "      <td>1</td>\n",
       "      <td>Cumings, Mrs. John Bradley (Florence Briggs Th...</td>\n",
       "      <td>female</td>\n",
       "      <td>38.0</td>\n",
       "      <td>1</td>\n",
       "      <td>0</td>\n",
       "      <td>PC 17599</td>\n",
       "      <td>71.2833</td>\n",
       "      <td>C85</td>\n",
       "      <td>C</td>\n",
       "    </tr>\n",
       "    <tr>\n",
       "      <td>2</td>\n",
       "      <td>3</td>\n",
       "      <td>1</td>\n",
       "      <td>3</td>\n",
       "      <td>Heikkinen, Miss. Laina</td>\n",
       "      <td>female</td>\n",
       "      <td>26.0</td>\n",
       "      <td>0</td>\n",
       "      <td>0</td>\n",
       "      <td>STON/O2. 3101282</td>\n",
       "      <td>7.9250</td>\n",
       "      <td>NaN</td>\n",
       "      <td>S</td>\n",
       "    </tr>\n",
       "    <tr>\n",
       "      <td>3</td>\n",
       "      <td>4</td>\n",
       "      <td>1</td>\n",
       "      <td>1</td>\n",
       "      <td>Futrelle, Mrs. Jacques Heath (Lily May Peel)</td>\n",
       "      <td>female</td>\n",
       "      <td>35.0</td>\n",
       "      <td>1</td>\n",
       "      <td>0</td>\n",
       "      <td>113803</td>\n",
       "      <td>53.1000</td>\n",
       "      <td>C123</td>\n",
       "      <td>S</td>\n",
       "    </tr>\n",
       "    <tr>\n",
       "      <td>4</td>\n",
       "      <td>5</td>\n",
       "      <td>0</td>\n",
       "      <td>3</td>\n",
       "      <td>Allen, Mr. William Henry</td>\n",
       "      <td>male</td>\n",
       "      <td>35.0</td>\n",
       "      <td>0</td>\n",
       "      <td>0</td>\n",
       "      <td>373450</td>\n",
       "      <td>8.0500</td>\n",
       "      <td>NaN</td>\n",
       "      <td>S</td>\n",
       "    </tr>\n",
       "  </tbody>\n",
       "</table>\n",
       "</div>"
      ],
      "text/plain": [
       "   PassengerId  Survived  Pclass  \\\n",
       "0            1         0       3   \n",
       "1            2         1       1   \n",
       "2            3         1       3   \n",
       "3            4         1       1   \n",
       "4            5         0       3   \n",
       "\n",
       "                                                Name     Sex   Age  SibSp  \\\n",
       "0                            Braund, Mr. Owen Harris    male  22.0      1   \n",
       "1  Cumings, Mrs. John Bradley (Florence Briggs Th...  female  38.0      1   \n",
       "2                             Heikkinen, Miss. Laina  female  26.0      0   \n",
       "3       Futrelle, Mrs. Jacques Heath (Lily May Peel)  female  35.0      1   \n",
       "4                           Allen, Mr. William Henry    male  35.0      0   \n",
       "\n",
       "   Parch            Ticket     Fare Cabin Embarked  \n",
       "0      0         A/5 21171   7.2500   NaN        S  \n",
       "1      0          PC 17599  71.2833   C85        C  \n",
       "2      0  STON/O2. 3101282   7.9250   NaN        S  \n",
       "3      0            113803  53.1000  C123        S  \n",
       "4      0            373450   8.0500   NaN        S  "
      ]
     },
     "execution_count": 3,
     "metadata": {},
     "output_type": "execute_result"
    }
   ],
   "source": [
    "df.head()"
   ]
  },
  {
   "cell_type": "code",
   "execution_count": 4,
   "metadata": {},
   "outputs": [
    {
     "data": {
      "text/plain": [
       "(891, 12)"
      ]
     },
     "execution_count": 4,
     "metadata": {},
     "output_type": "execute_result"
    }
   ],
   "source": [
    "df.shape"
   ]
  },
  {
   "cell_type": "markdown",
   "metadata": {},
   "source": [
    "## Data preprocessing"
   ]
  },
  {
   "cell_type": "code",
   "execution_count": 5,
   "metadata": {},
   "outputs": [
    {
     "data": {
      "text/plain": [
       "PassengerId      0\n",
       "Survived         0\n",
       "Pclass           0\n",
       "Name             0\n",
       "Sex              0\n",
       "Age            177\n",
       "SibSp            0\n",
       "Parch            0\n",
       "Ticket           0\n",
       "Fare             0\n",
       "Cabin          687\n",
       "Embarked         2\n",
       "dtype: int64"
      ]
     },
     "execution_count": 5,
     "metadata": {},
     "output_type": "execute_result"
    }
   ],
   "source": [
    "df.isnull().sum()"
   ]
  },
  {
   "cell_type": "code",
   "execution_count": 6,
   "metadata": {},
   "outputs": [
    {
     "data": {
      "text/plain": [
       "mean      29.699118\n",
       "median    28.000000\n",
       "Name: Age, dtype: float64"
      ]
     },
     "execution_count": 6,
     "metadata": {},
     "output_type": "execute_result"
    }
   ],
   "source": [
    "df.Age.agg(['mean','median'])"
   ]
  },
  {
   "cell_type": "code",
   "execution_count": 7,
   "metadata": {},
   "outputs": [],
   "source": [
    "df['Age'].fillna(df['Age'].median(), inplace = True)"
   ]
  },
  {
   "cell_type": "code",
   "execution_count": 8,
   "metadata": {},
   "outputs": [
    {
     "data": {
      "text/plain": [
       "PassengerId      0\n",
       "Survived         0\n",
       "Pclass           0\n",
       "Name             0\n",
       "Sex              0\n",
       "Age              0\n",
       "SibSp            0\n",
       "Parch            0\n",
       "Ticket           0\n",
       "Fare             0\n",
       "Cabin          687\n",
       "Embarked         2\n",
       "dtype: int64"
      ]
     },
     "execution_count": 8,
     "metadata": {},
     "output_type": "execute_result"
    }
   ],
   "source": [
    "df.isnull().sum()"
   ]
  },
  {
   "cell_type": "code",
   "execution_count": 9,
   "metadata": {},
   "outputs": [
    {
     "data": {
      "text/plain": [
       "0        B96 B98\n",
       "1    C23 C25 C27\n",
       "2             G6\n",
       "dtype: object"
      ]
     },
     "execution_count": 9,
     "metadata": {},
     "output_type": "execute_result"
    }
   ],
   "source": [
    "df.Cabin.mode()"
   ]
  },
  {
   "cell_type": "code",
   "execution_count": 10,
   "metadata": {},
   "outputs": [],
   "source": [
    "df = df.dropna(subset = ['Embarked'])"
   ]
  },
  {
   "cell_type": "code",
   "execution_count": 11,
   "metadata": {},
   "outputs": [],
   "source": [
    "df = df.drop(['Name','Cabin','Ticket', 'PassengerId'], axis=1)"
   ]
  },
  {
   "cell_type": "code",
   "execution_count": 12,
   "metadata": {},
   "outputs": [
    {
     "data": {
      "text/plain": [
       "Survived    0\n",
       "Pclass      0\n",
       "Sex         0\n",
       "Age         0\n",
       "SibSp       0\n",
       "Parch       0\n",
       "Fare        0\n",
       "Embarked    0\n",
       "dtype: int64"
      ]
     },
     "execution_count": 12,
     "metadata": {},
     "output_type": "execute_result"
    }
   ],
   "source": [
    "df.isnull().sum()"
   ]
  },
  {
   "cell_type": "code",
   "execution_count": 13,
   "metadata": {},
   "outputs": [
    {
     "data": {
      "text/html": [
       "<div>\n",
       "<style scoped>\n",
       "    .dataframe tbody tr th:only-of-type {\n",
       "        vertical-align: middle;\n",
       "    }\n",
       "\n",
       "    .dataframe tbody tr th {\n",
       "        vertical-align: top;\n",
       "    }\n",
       "\n",
       "    .dataframe thead th {\n",
       "        text-align: right;\n",
       "    }\n",
       "</style>\n",
       "<table border=\"1\" class=\"dataframe\">\n",
       "  <thead>\n",
       "    <tr style=\"text-align: right;\">\n",
       "      <th></th>\n",
       "      <th>Survived</th>\n",
       "      <th>Pclass</th>\n",
       "      <th>Sex</th>\n",
       "      <th>Age</th>\n",
       "      <th>SibSp</th>\n",
       "      <th>Parch</th>\n",
       "      <th>Fare</th>\n",
       "      <th>Embarked</th>\n",
       "    </tr>\n",
       "  </thead>\n",
       "  <tbody>\n",
       "    <tr>\n",
       "      <td>0</td>\n",
       "      <td>0</td>\n",
       "      <td>3</td>\n",
       "      <td>male</td>\n",
       "      <td>22.0</td>\n",
       "      <td>1</td>\n",
       "      <td>0</td>\n",
       "      <td>7.2500</td>\n",
       "      <td>S</td>\n",
       "    </tr>\n",
       "    <tr>\n",
       "      <td>1</td>\n",
       "      <td>1</td>\n",
       "      <td>1</td>\n",
       "      <td>female</td>\n",
       "      <td>38.0</td>\n",
       "      <td>1</td>\n",
       "      <td>0</td>\n",
       "      <td>71.2833</td>\n",
       "      <td>C</td>\n",
       "    </tr>\n",
       "    <tr>\n",
       "      <td>2</td>\n",
       "      <td>1</td>\n",
       "      <td>3</td>\n",
       "      <td>female</td>\n",
       "      <td>26.0</td>\n",
       "      <td>0</td>\n",
       "      <td>0</td>\n",
       "      <td>7.9250</td>\n",
       "      <td>S</td>\n",
       "    </tr>\n",
       "    <tr>\n",
       "      <td>3</td>\n",
       "      <td>1</td>\n",
       "      <td>1</td>\n",
       "      <td>female</td>\n",
       "      <td>35.0</td>\n",
       "      <td>1</td>\n",
       "      <td>0</td>\n",
       "      <td>53.1000</td>\n",
       "      <td>S</td>\n",
       "    </tr>\n",
       "    <tr>\n",
       "      <td>4</td>\n",
       "      <td>0</td>\n",
       "      <td>3</td>\n",
       "      <td>male</td>\n",
       "      <td>35.0</td>\n",
       "      <td>0</td>\n",
       "      <td>0</td>\n",
       "      <td>8.0500</td>\n",
       "      <td>S</td>\n",
       "    </tr>\n",
       "  </tbody>\n",
       "</table>\n",
       "</div>"
      ],
      "text/plain": [
       "   Survived  Pclass     Sex   Age  SibSp  Parch     Fare Embarked\n",
       "0         0       3    male  22.0      1      0   7.2500        S\n",
       "1         1       1  female  38.0      1      0  71.2833        C\n",
       "2         1       3  female  26.0      0      0   7.9250        S\n",
       "3         1       1  female  35.0      1      0  53.1000        S\n",
       "4         0       3    male  35.0      0      0   8.0500        S"
      ]
     },
     "execution_count": 13,
     "metadata": {},
     "output_type": "execute_result"
    }
   ],
   "source": [
    "df.head()"
   ]
  },
  {
   "cell_type": "code",
   "execution_count": 14,
   "metadata": {},
   "outputs": [],
   "source": [
    "# Data Visualisation\n",
    "import seaborn as sns"
   ]
  },
  {
   "cell_type": "code",
   "execution_count": 15,
   "metadata": {},
   "outputs": [
    {
     "data": {
      "text/plain": [
       "<matplotlib.axes._subplots.AxesSubplot at 0x1dc0571a408>"
      ]
     },
     "execution_count": 15,
     "metadata": {},
     "output_type": "execute_result"
    },
    {
     "data": {
      "image/png": "[encoded data removed]",
      "text/plain": [
       "<Figure size 432x288 with 1 Axes>"
      ]
     },
     "metadata": {
      "needs_background": "light"
     },
     "output_type": "display_data"
    }
   ],
   "source": [
    "ax = sns.barplot(x='Sex', y='Survived', data=df)\n",
    "ax.set_title('Sex v/s Survived')\n",
    "ax"
   ]
  },
  {
   "cell_type": "code",
   "execution_count": 16,
   "metadata": {},
   "outputs": [
    {
     "data": {
      "text/plain": [
       "<matplotlib.axes._subplots.AxesSubplot at 0x1dc069f21c8>"
      ]
     },
     "execution_count": 16,
     "metadata": {},
     "output_type": "execute_result"
    },
    {
     "data": {
      "image/png": "[encoded data removed]",
      "text/plain": [
       "<Figure size 432x288 with 1 Axes>"
      ]
     },
     "metadata": {
      "needs_background": "light"
     },
     "output_type": "display_data"
    }
   ],
   "source": [
    "ax1 = sns.barplot(x='Pclass', y='Survived', data=df)\n",
    "ax1.set_title('Passenger Class v/s Survived')\n",
    "ax1"
   ]
  },
  {
   "cell_type": "code",
   "execution_count": 17,
   "metadata": {},
   "outputs": [
    {
     "data": {
      "text/plain": [
       "<matplotlib.axes._subplots.AxesSubplot at 0x1dc07b14d08>"
      ]
     },
     "execution_count": 17,
     "metadata": {},
     "output_type": "execute_result"
    },
    {
     "data": {
      "image/png": "[encoded data removed]",
      "text/plain": [
       "<Figure size 432x288 with 1 Axes>"
      ]
     },
     "metadata": {
      "needs_background": "light"
     },
     "output_type": "display_data"
    }
   ],
   "source": [
    "range1 = [0, 5, 12, 18, 24, 35, 60]\n",
    "labels = ['Baby', 'Child', 'Teenager', 'Young Adult', 'Adult', 'Senior']\n",
    "df['AgeGroup'] = pd.cut(df[\"Age\"], range1, labels = labels)\n",
    "ax2 = sns.barplot(x='AgeGroup', y='Survived', data=df)\n",
    "ax2.set_title('Age v/s Survived')\n",
    "ax2"
   ]
  },
  {
   "cell_type": "code",
   "execution_count": 18,
   "metadata": {},
   "outputs": [],
   "source": [
    "df = df = df.drop('AgeGroup', axis=1)"
   ]
  },
  {
   "cell_type": "code",
   "execution_count": 19,
   "metadata": {},
   "outputs": [
    {
     "data": {
      "text/plain": [
       "<matplotlib.axes._subplots.AxesSubplot at 0x1dc07b47748>"
      ]
     },
     "execution_count": 19,
     "metadata": {},
     "output_type": "execute_result"
    },
    {
     "data": {
      "image/png": "[encoded data removed]",
      "text/plain": [
       "<Figure size 432x288 with 1 Axes>"
      ]
     },
     "metadata": {
      "needs_background": "light"
     },
     "output_type": "display_data"
    }
   ],
   "source": [
    "ax = sns.barplot(x='SibSp', y='Survived', data=df)\n",
    "ax.set_title('No. of Siblings/Spouses v/s Survived')\n",
    "ax"
   ]
  },
  {
   "cell_type": "code",
   "execution_count": 20,
   "metadata": {},
   "outputs": [
    {
     "data": {
      "text/plain": [
       "<matplotlib.axes._subplots.AxesSubplot at 0x1dc07c42148>"
      ]
     },
     "execution_count": 20,
     "metadata": {},
     "output_type": "execute_result"
    },
    {
     "data": {
      "image/png": "[encoded data removed]",
      "text/plain": [
       "<Figure size 432x288 with 1 Axes>"
      ]
     },
     "metadata": {
      "needs_background": "light"
     },
     "output_type": "display_data"
    }
   ],
   "source": [
    "ax = sns.barplot(x='Parch', y='Survived', data=df)\n",
    "ax.set_title('No. of Parents/Children v/s Survived')\n",
    "ax"
   ]
  },
  {
   "cell_type": "code",
   "execution_count": 21,
   "metadata": {},
   "outputs": [
    {
     "data": {
      "text/plain": [
       "<matplotlib.axes._subplots.AxesSubplot at 0x1dc07ccdfc8>"
      ]
     },
     "execution_count": 21,
     "metadata": {},
     "output_type": "execute_result"
    },
    {
     "data": {
      "image/png": "[encoded data removed]",
      "text/plain": [
       "<Figure size 432x288 with 1 Axes>"
      ]
     },
     "metadata": {
      "needs_background": "light"
     },
     "output_type": "display_data"
    }
   ],
   "source": [
    "ax = sns.barplot(x='Embarked', y='Survived', data=df)\n",
    "ax.set_title('Embarked v/s Survived')\n",
    "ax"
   ]
  },
  {
   "cell_type": "code",
   "execution_count": 22,
   "metadata": {},
   "outputs": [],
   "source": [
    "from sklearn.preprocessing import LabelEncoder\n",
    "labelEncoder = LabelEncoder()\n",
    "df['Sex']= labelEncoder.fit_transform(df['Sex'])\n",
    "df['Embarked']= labelEncoder.fit_transform(df['Embarked'])"
   ]
  },
  {
   "cell_type": "code",
   "execution_count": 23,
   "metadata": {},
   "outputs": [
    {
     "data": {
      "text/html": [
       "<div>\n",
       "<style scoped>\n",
       "    .dataframe tbody tr th:only-of-type {\n",
       "        vertical-align: middle;\n",
       "    }\n",
       "\n",
       "    .dataframe tbody tr th {\n",
       "        vertical-align: top;\n",
       "    }\n",
       "\n",
       "    .dataframe thead th {\n",
       "        text-align: right;\n",
       "    }\n",
       "</style>\n",
       "<table border=\"1\" class=\"dataframe\">\n",
       "  <thead>\n",
       "    <tr style=\"text-align: right;\">\n",
       "      <th></th>\n",
       "      <th>Survived</th>\n",
       "      <th>Pclass</th>\n",
       "      <th>Sex</th>\n",
       "      <th>Age</th>\n",
       "      <th>SibSp</th>\n",
       "      <th>Parch</th>\n",
       "      <th>Fare</th>\n",
       "      <th>Embarked</th>\n",
       "    </tr>\n",
       "  </thead>\n",
       "  <tbody>\n",
       "    <tr>\n",
       "      <td>0</td>\n",
       "      <td>0</td>\n",
       "      <td>3</td>\n",
       "      <td>1</td>\n",
       "      <td>22.0</td>\n",
       "      <td>1</td>\n",
       "      <td>0</td>\n",
       "      <td>7.2500</td>\n",
       "      <td>2</td>\n",
       "    </tr>\n",
       "    <tr>\n",
       "      <td>1</td>\n",
       "      <td>1</td>\n",
       "      <td>1</td>\n",
       "      <td>0</td>\n",
       "      <td>38.0</td>\n",
       "      <td>1</td>\n",
       "      <td>0</td>\n",
       "      <td>71.2833</td>\n",
       "      <td>0</td>\n",
       "    </tr>\n",
       "    <tr>\n",
       "      <td>2</td>\n",
       "      <td>1</td>\n",
       "      <td>3</td>\n",
       "      <td>0</td>\n",
       "      <td>26.0</td>\n",
       "      <td>0</td>\n",
       "      <td>0</td>\n",
       "      <td>7.9250</td>\n",
       "      <td>2</td>\n",
       "    </tr>\n",
       "    <tr>\n",
       "      <td>3</td>\n",
       "      <td>1</td>\n",
       "      <td>1</td>\n",
       "      <td>0</td>\n",
       "      <td>35.0</td>\n",
       "      <td>1</td>\n",
       "      <td>0</td>\n",
       "      <td>53.1000</td>\n",
       "      <td>2</td>\n",
       "    </tr>\n",
       "    <tr>\n",
       "      <td>4</td>\n",
       "      <td>0</td>\n",
       "      <td>3</td>\n",
       "      <td>1</td>\n",
       "      <td>35.0</td>\n",
       "      <td>0</td>\n",
       "      <td>0</td>\n",
       "      <td>8.0500</td>\n",
       "      <td>2</td>\n",
       "    </tr>\n",
       "    <tr>\n",
       "      <td>...</td>\n",
       "      <td>...</td>\n",
       "      <td>...</td>\n",
       "      <td>...</td>\n",
       "      <td>...</td>\n",
       "      <td>...</td>\n",
       "      <td>...</td>\n",
       "      <td>...</td>\n",
       "      <td>...</td>\n",
       "    </tr>\n",
       "    <tr>\n",
       "      <td>886</td>\n",
       "      <td>0</td>\n",
       "      <td>2</td>\n",
       "      <td>1</td>\n",
       "      <td>27.0</td>\n",
       "      <td>0</td>\n",
       "      <td>0</td>\n",
       "      <td>13.0000</td>\n",
       "      <td>2</td>\n",
       "    </tr>\n",
       "    <tr>\n",
       "      <td>887</td>\n",
       "      <td>1</td>\n",
       "      <td>1</td>\n",
       "      <td>0</td>\n",
       "      <td>19.0</td>\n",
       "      <td>0</td>\n",
       "      <td>0</td>\n",
       "      <td>30.0000</td>\n",
       "      <td>2</td>\n",
       "    </tr>\n",
       "    <tr>\n",
       "      <td>888</td>\n",
       "      <td>0</td>\n",
       "      <td>3</td>\n",
       "      <td>0</td>\n",
       "      <td>28.0</td>\n",
       "      <td>1</td>\n",
       "      <td>2</td>\n",
       "      <td>23.4500</td>\n",
       "      <td>2</td>\n",
       "    </tr>\n",
       "    <tr>\n",
       "      <td>889</td>\n",
       "      <td>1</td>\n",
       "      <td>1</td>\n",
       "      <td>1</td>\n",
       "      <td>26.0</td>\n",
       "      <td>0</td>\n",
       "      <td>0</td>\n",
       "      <td>30.0000</td>\n",
       "      <td>0</td>\n",
       "    </tr>\n",
       "    <tr>\n",
       "      <td>890</td>\n",
       "      <td>0</td>\n",
       "      <td>3</td>\n",
       "      <td>1</td>\n",
       "      <td>32.0</td>\n",
       "      <td>0</td>\n",
       "      <td>0</td>\n",
       "      <td>7.7500</td>\n",
       "      <td>1</td>\n",
       "    </tr>\n",
       "  </tbody>\n",
       "</table>\n",
       "<p>889 rows × 8 columns</p>\n",
       "</div>"
      ],
      "text/plain": [
       "     Survived  Pclass  Sex   Age  SibSp  Parch     Fare  Embarked\n",
       "0           0       3    1  22.0      1      0   7.2500         2\n",
       "1           1       1    0  38.0      1      0  71.2833         0\n",
       "2           1       3    0  26.0      0      0   7.9250         2\n",
       "3           1       1    0  35.0      1      0  53.1000         2\n",
       "4           0       3    1  35.0      0      0   8.0500         2\n",
       "..        ...     ...  ...   ...    ...    ...      ...       ...\n",
       "886         0       2    1  27.0      0      0  13.0000         2\n",
       "887         1       1    0  19.0      0      0  30.0000         2\n",
       "888         0       3    0  28.0      1      2  23.4500         2\n",
       "889         1       1    1  26.0      0      0  30.0000         0\n",
       "890         0       3    1  32.0      0      0   7.7500         1\n",
       "\n",
       "[889 rows x 8 columns]"
      ]
     },
     "execution_count": 23,
     "metadata": {},
     "output_type": "execute_result"
    }
   ],
   "source": [
    "df"
   ]
  },
  {
   "cell_type": "markdown",
   "metadata": {},
   "source": [
    "## Feature Selection"
   ]
  },
  {
   "cell_type": "code",
   "execution_count": 24,
   "metadata": {},
   "outputs": [],
   "source": [
    "X = df.iloc[:, 1:8]\n",
    "Y = df.iloc[:, 0]"
   ]
  },
  {
   "cell_type": "code",
   "execution_count": 25,
   "metadata": {},
   "outputs": [],
   "source": [
    "# Train Test Split\n",
    "\n",
    "from sklearn.model_selection import train_test_split\n",
    "X_train, X_test, Y_train, Y_test =train_test_split(X, Y, test_size = 0.2, random_state = 0)"
   ]
  },
  {
   "cell_type": "code",
   "execution_count": 26,
   "metadata": {},
   "outputs": [
    {
     "data": {
      "text/html": [
       "<div>\n",
       "<style scoped>\n",
       "    .dataframe tbody tr th:only-of-type {\n",
       "        vertical-align: middle;\n",
       "    }\n",
       "\n",
       "    .dataframe tbody tr th {\n",
       "        vertical-align: top;\n",
       "    }\n",
       "\n",
       "    .dataframe thead th {\n",
       "        text-align: right;\n",
       "    }\n",
       "</style>\n",
       "<table border=\"1\" class=\"dataframe\">\n",
       "  <thead>\n",
       "    <tr style=\"text-align: right;\">\n",
       "      <th></th>\n",
       "      <th>Pclass</th>\n",
       "      <th>Age</th>\n",
       "      <th>SibSp</th>\n",
       "      <th>Parch</th>\n",
       "      <th>Fare</th>\n",
       "      <th>Embarked</th>\n",
       "    </tr>\n",
       "  </thead>\n",
       "  <tbody>\n",
       "    <tr>\n",
       "      <td>0</td>\n",
       "      <td>3.0</td>\n",
       "      <td>22.0</td>\n",
       "      <td>1.0</td>\n",
       "      <td>0.0</td>\n",
       "      <td>7.2500</td>\n",
       "      <td>2.0</td>\n",
       "    </tr>\n",
       "    <tr>\n",
       "      <td>1</td>\n",
       "      <td>1.0</td>\n",
       "      <td>38.0</td>\n",
       "      <td>1.0</td>\n",
       "      <td>0.0</td>\n",
       "      <td>71.2833</td>\n",
       "      <td>0.0</td>\n",
       "    </tr>\n",
       "    <tr>\n",
       "      <td>2</td>\n",
       "      <td>3.0</td>\n",
       "      <td>26.0</td>\n",
       "      <td>0.0</td>\n",
       "      <td>0.0</td>\n",
       "      <td>7.9250</td>\n",
       "      <td>2.0</td>\n",
       "    </tr>\n",
       "    <tr>\n",
       "      <td>3</td>\n",
       "      <td>1.0</td>\n",
       "      <td>35.0</td>\n",
       "      <td>1.0</td>\n",
       "      <td>0.0</td>\n",
       "      <td>53.1000</td>\n",
       "      <td>2.0</td>\n",
       "    </tr>\n",
       "    <tr>\n",
       "      <td>4</td>\n",
       "      <td>3.0</td>\n",
       "      <td>35.0</td>\n",
       "      <td>0.0</td>\n",
       "      <td>0.0</td>\n",
       "      <td>8.0500</td>\n",
       "      <td>2.0</td>\n",
       "    </tr>\n",
       "  </tbody>\n",
       "</table>\n",
       "</div>"
      ],
      "text/plain": [
       "   Pclass   Age  SibSp  Parch     Fare  Embarked\n",
       "0     3.0  22.0    1.0    0.0   7.2500       2.0\n",
       "1     1.0  38.0    1.0    0.0  71.2833       0.0\n",
       "2     3.0  26.0    0.0    0.0   7.9250       2.0\n",
       "3     1.0  35.0    1.0    0.0  53.1000       2.0\n",
       "4     3.0  35.0    0.0    0.0   8.0500       2.0"
      ]
     },
     "execution_count": 26,
     "metadata": {},
     "output_type": "execute_result"
    }
   ],
   "source": [
    "from sklearn.feature_selection import VarianceThreshold\n",
    "\n",
    "mdlsel = VarianceThreshold(threshold=0.5)\n",
    "mdlsel.fit(X)\n",
    "ix = mdlsel.get_support()\n",
    "data1 = pd.DataFrame(mdlsel.transform(X), columns = X.columns.values[ix])\n",
    "data1.head()"
   ]
  },
  {
   "cell_type": "code",
   "execution_count": 27,
   "metadata": {},
   "outputs": [],
   "source": [
    "from sklearn.feature_selection import SelectKBest, chi2\n",
    "\n",
    "bestfeatures = SelectKBest(chi2, k = 5)\n",
    "fit = bestfeatures.fit(X_train, Y_train)"
   ]
  },
  {
   "cell_type": "code",
   "execution_count": 28,
   "metadata": {},
   "outputs": [],
   "source": [
    "dfscores = pd.DataFrame(fit.scores_)\n",
    "dfcolumns = pd.DataFrame(X.columns)"
   ]
  },
  {
   "cell_type": "code",
   "execution_count": 29,
   "metadata": {},
   "outputs": [],
   "source": [
    "featureScores = pd.concat([dfcolumns, dfscores], axis=1)\n",
    "featureScores.columns = ['Specs','Score']"
   ]
  },
  {
   "cell_type": "code",
   "execution_count": 30,
   "metadata": {},
   "outputs": [
    {
     "data": {
      "text/html": [
       "<div>\n",
       "<style scoped>\n",
       "    .dataframe tbody tr th:only-of-type {\n",
       "        vertical-align: middle;\n",
       "    }\n",
       "\n",
       "    .dataframe tbody tr th {\n",
       "        vertical-align: top;\n",
       "    }\n",
       "\n",
       "    .dataframe thead th {\n",
       "        text-align: right;\n",
       "    }\n",
       "</style>\n",
       "<table border=\"1\" class=\"dataframe\">\n",
       "  <thead>\n",
       "    <tr style=\"text-align: right;\">\n",
       "      <th></th>\n",
       "      <th>Specs</th>\n",
       "      <th>Score</th>\n",
       "    </tr>\n",
       "  </thead>\n",
       "  <tbody>\n",
       "    <tr>\n",
       "      <td>0</td>\n",
       "      <td>Pclass</td>\n",
       "      <td>22.651692</td>\n",
       "    </tr>\n",
       "    <tr>\n",
       "      <td>1</td>\n",
       "      <td>Sex</td>\n",
       "      <td>82.415412</td>\n",
       "    </tr>\n",
       "    <tr>\n",
       "      <td>2</td>\n",
       "      <td>Age</td>\n",
       "      <td>45.473701</td>\n",
       "    </tr>\n",
       "    <tr>\n",
       "      <td>3</td>\n",
       "      <td>SibSp</td>\n",
       "      <td>0.529343</td>\n",
       "    </tr>\n",
       "    <tr>\n",
       "      <td>4</td>\n",
       "      <td>Parch</td>\n",
       "      <td>10.356638</td>\n",
       "    </tr>\n",
       "    <tr>\n",
       "      <td>5</td>\n",
       "      <td>Fare</td>\n",
       "      <td>4054.492164</td>\n",
       "    </tr>\n",
       "    <tr>\n",
       "      <td>6</td>\n",
       "      <td>Embarked</td>\n",
       "      <td>10.002081</td>\n",
       "    </tr>\n",
       "  </tbody>\n",
       "</table>\n",
       "</div>"
      ],
      "text/plain": [
       "      Specs        Score\n",
       "0    Pclass    22.651692\n",
       "1       Sex    82.415412\n",
       "2       Age    45.473701\n",
       "3     SibSp     0.529343\n",
       "4     Parch    10.356638\n",
       "5      Fare  4054.492164\n",
       "6  Embarked    10.002081"
      ]
     },
     "execution_count": 30,
     "metadata": {},
     "output_type": "execute_result"
    }
   ],
   "source": [
    "featureScores "
   ]
  },
  {
   "cell_type": "markdown",
   "metadata": {},
   "source": [
    "##### From the chi2 test, it can be observed that Fare,  Age, Sex and Pclass are the most important features for prediction."
   ]
  },
  {
   "cell_type": "markdown",
   "metadata": {},
   "source": [
    "## Model for prediction"
   ]
  },
  {
   "cell_type": "code",
   "execution_count": 31,
   "metadata": {},
   "outputs": [
    {
     "data": {
      "text/html": [
       "<div>\n",
       "<style scoped>\n",
       "    .dataframe tbody tr th:only-of-type {\n",
       "        vertical-align: middle;\n",
       "    }\n",
       "\n",
       "    .dataframe tbody tr th {\n",
       "        vertical-align: top;\n",
       "    }\n",
       "\n",
       "    .dataframe thead th {\n",
       "        text-align: right;\n",
       "    }\n",
       "</style>\n",
       "<table border=\"1\" class=\"dataframe\">\n",
       "  <thead>\n",
       "    <tr style=\"text-align: right;\">\n",
       "      <th></th>\n",
       "      <th>Pclass</th>\n",
       "      <th>Sex</th>\n",
       "      <th>Age</th>\n",
       "      <th>SibSp</th>\n",
       "      <th>Parch</th>\n",
       "      <th>Fare</th>\n",
       "      <th>Embarked</th>\n",
       "    </tr>\n",
       "  </thead>\n",
       "  <tbody>\n",
       "    <tr>\n",
       "      <td>364</td>\n",
       "      <td>3</td>\n",
       "      <td>1</td>\n",
       "      <td>28.0</td>\n",
       "      <td>1</td>\n",
       "      <td>0</td>\n",
       "      <td>15.5000</td>\n",
       "      <td>1</td>\n",
       "    </tr>\n",
       "    <tr>\n",
       "      <td>256</td>\n",
       "      <td>1</td>\n",
       "      <td>0</td>\n",
       "      <td>28.0</td>\n",
       "      <td>0</td>\n",
       "      <td>0</td>\n",
       "      <td>79.2000</td>\n",
       "      <td>0</td>\n",
       "    </tr>\n",
       "    <tr>\n",
       "      <td>477</td>\n",
       "      <td>3</td>\n",
       "      <td>1</td>\n",
       "      <td>29.0</td>\n",
       "      <td>1</td>\n",
       "      <td>0</td>\n",
       "      <td>7.0458</td>\n",
       "      <td>2</td>\n",
       "    </tr>\n",
       "    <tr>\n",
       "      <td>272</td>\n",
       "      <td>2</td>\n",
       "      <td>0</td>\n",
       "      <td>41.0</td>\n",
       "      <td>0</td>\n",
       "      <td>1</td>\n",
       "      <td>19.5000</td>\n",
       "      <td>2</td>\n",
       "    </tr>\n",
       "    <tr>\n",
       "      <td>554</td>\n",
       "      <td>3</td>\n",
       "      <td>0</td>\n",
       "      <td>22.0</td>\n",
       "      <td>0</td>\n",
       "      <td>0</td>\n",
       "      <td>7.7750</td>\n",
       "      <td>2</td>\n",
       "    </tr>\n",
       "    <tr>\n",
       "      <td>...</td>\n",
       "      <td>...</td>\n",
       "      <td>...</td>\n",
       "      <td>...</td>\n",
       "      <td>...</td>\n",
       "      <td>...</td>\n",
       "      <td>...</td>\n",
       "      <td>...</td>\n",
       "    </tr>\n",
       "    <tr>\n",
       "      <td>837</td>\n",
       "      <td>3</td>\n",
       "      <td>1</td>\n",
       "      <td>28.0</td>\n",
       "      <td>0</td>\n",
       "      <td>0</td>\n",
       "      <td>8.0500</td>\n",
       "      <td>2</td>\n",
       "    </tr>\n",
       "    <tr>\n",
       "      <td>193</td>\n",
       "      <td>2</td>\n",
       "      <td>1</td>\n",
       "      <td>3.0</td>\n",
       "      <td>1</td>\n",
       "      <td>1</td>\n",
       "      <td>26.0000</td>\n",
       "      <td>2</td>\n",
       "    </tr>\n",
       "    <tr>\n",
       "      <td>630</td>\n",
       "      <td>1</td>\n",
       "      <td>1</td>\n",
       "      <td>80.0</td>\n",
       "      <td>0</td>\n",
       "      <td>0</td>\n",
       "      <td>30.0000</td>\n",
       "      <td>2</td>\n",
       "    </tr>\n",
       "    <tr>\n",
       "      <td>560</td>\n",
       "      <td>3</td>\n",
       "      <td>1</td>\n",
       "      <td>28.0</td>\n",
       "      <td>0</td>\n",
       "      <td>0</td>\n",
       "      <td>7.7500</td>\n",
       "      <td>1</td>\n",
       "    </tr>\n",
       "    <tr>\n",
       "      <td>685</td>\n",
       "      <td>2</td>\n",
       "      <td>1</td>\n",
       "      <td>25.0</td>\n",
       "      <td>1</td>\n",
       "      <td>2</td>\n",
       "      <td>41.5792</td>\n",
       "      <td>0</td>\n",
       "    </tr>\n",
       "  </tbody>\n",
       "</table>\n",
       "<p>711 rows × 7 columns</p>\n",
       "</div>"
      ],
      "text/plain": [
       "     Pclass  Sex   Age  SibSp  Parch     Fare  Embarked\n",
       "364       3    1  28.0      1      0  15.5000         1\n",
       "256       1    0  28.0      0      0  79.2000         0\n",
       "477       3    1  29.0      1      0   7.0458         2\n",
       "272       2    0  41.0      0      1  19.5000         2\n",
       "554       3    0  22.0      0      0   7.7750         2\n",
       "..      ...  ...   ...    ...    ...      ...       ...\n",
       "837       3    1  28.0      0      0   8.0500         2\n",
       "193       2    1   3.0      1      1  26.0000         2\n",
       "630       1    1  80.0      0      0  30.0000         2\n",
       "560       3    1  28.0      0      0   7.7500         1\n",
       "685       2    1  25.0      1      2  41.5792         0\n",
       "\n",
       "[711 rows x 7 columns]"
      ]
     },
     "execution_count": 31,
     "metadata": {},
     "output_type": "execute_result"
    }
   ],
   "source": [
    "X_train"
   ]
  },
  {
   "cell_type": "code",
   "execution_count": 32,
   "metadata": {},
   "outputs": [],
   "source": [
    "X_train = X_train.values"
   ]
  },
  {
   "cell_type": "code",
   "execution_count": 33,
   "metadata": {},
   "outputs": [
    {
     "data": {
      "text/plain": [
       "array([[ 3.    ,  1.    , 28.    , ...,  0.    , 15.5   ,  1.    ],\n",
       "       [ 1.    ,  0.    , 28.    , ...,  0.    , 79.2   ,  0.    ],\n",
       "       [ 3.    ,  1.    , 29.    , ...,  0.    ,  7.0458,  2.    ],\n",
       "       ...,\n",
       "       [ 1.    ,  1.    , 80.    , ...,  0.    , 30.    ,  2.    ],\n",
       "       [ 3.    ,  1.    , 28.    , ...,  0.    ,  7.75  ,  1.    ],\n",
       "       [ 2.    ,  1.    , 25.    , ...,  2.    , 41.5792,  0.    ]])"
      ]
     },
     "execution_count": 33,
     "metadata": {},
     "output_type": "execute_result"
    }
   ],
   "source": [
    "X_train"
   ]
  },
  {
   "cell_type": "code",
   "execution_count": 34,
   "metadata": {},
   "outputs": [
    {
     "data": {
      "text/plain": [
       "(711, 7)"
      ]
     },
     "execution_count": 34,
     "metadata": {},
     "output_type": "execute_result"
    }
   ],
   "source": [
    "X_train.shape"
   ]
  },
  {
   "cell_type": "code",
   "execution_count": 35,
   "metadata": {},
   "outputs": [],
   "source": [
    "X_train = np.delete(X_train, [3, 4, 6], axis = 1)"
   ]
  },
  {
   "cell_type": "code",
   "execution_count": 36,
   "metadata": {},
   "outputs": [
    {
     "data": {
      "text/plain": [
       "array([[ 3.    ,  1.    , 28.    , 15.5   ],\n",
       "       [ 1.    ,  0.    , 28.    , 79.2   ],\n",
       "       [ 3.    ,  1.    , 29.    ,  7.0458],\n",
       "       ...,\n",
       "       [ 1.    ,  1.    , 80.    , 30.    ],\n",
       "       [ 3.    ,  1.    , 28.    ,  7.75  ],\n",
       "       [ 2.    ,  1.    , 25.    , 41.5792]])"
      ]
     },
     "execution_count": 36,
     "metadata": {},
     "output_type": "execute_result"
    }
   ],
   "source": [
    "X_train"
   ]
  },
  {
   "cell_type": "code",
   "execution_count": 37,
   "metadata": {},
   "outputs": [],
   "source": [
    "X_test = np.delete(X_test.values, [3, 4, 6], axis = 1)"
   ]
  },
  {
   "cell_type": "code",
   "execution_count": 38,
   "metadata": {},
   "outputs": [
    {
     "data": {
      "text/plain": [
       "array([[  3.    ,   0.    ,  14.    ,   7.8542],\n",
       "       [  3.    ,   1.    ,  28.    ,  69.55  ],\n",
       "       [  1.    ,   0.    ,  36.    , 120.    ],\n",
       "       [  1.    ,   1.    ,  36.    ,  78.85  ],\n",
       "       [  3.    ,   0.    ,  63.    ,   9.5875],\n",
       "       [  1.    ,   1.    ,  52.    ,  79.65  ],\n",
       "       [  2.    ,   1.    ,  26.    ,  10.5   ],\n",
       "       [  1.    ,   1.    ,  42.    ,  26.2875],\n",
       "       [  3.    ,   0.    ,  30.    ,   8.6625],\n",
       "       [  2.    ,   1.    ,   8.    ,  36.75  ],\n",
       "       [  3.    ,   0.    ,  41.    ,  20.2125],\n",
       "       [  1.    ,   0.    ,  28.    , 146.5208],\n",
       "       [  3.    ,   0.    ,   0.75  ,  19.2583],\n",
       "       [  2.    ,   1.    ,  19.    ,  36.75  ],\n",
       "       [  3.    ,   0.    ,  28.    ,   7.75  ],\n",
       "       [  3.    ,   1.    ,  25.    ,  17.8   ],\n",
       "       [  2.    ,   0.    ,  34.    ,  23.    ],\n",
       "       [  3.    ,   0.    ,  29.    ,  21.075 ],\n",
       "       [  3.    ,   1.    ,  28.    ,  56.4958],\n",
       "       [  1.    ,   0.    ,  18.    ,  79.65  ],\n",
       "       [  1.    ,   1.    ,  46.    ,  79.2   ],\n",
       "       [  1.    ,   0.    ,  21.    ,  77.9583],\n",
       "       [  1.    ,   1.    ,  36.    ,  26.3875],\n",
       "       [  2.    ,   1.    ,  23.    ,  13.    ],\n",
       "       [  3.    ,   1.    ,  42.    ,   7.65  ],\n",
       "       [  3.    ,   1.    ,  22.    ,   7.2292],\n",
       "       [  1.    ,   1.    ,  22.    , 135.6333],\n",
       "       [  1.    ,   1.    ,  28.    ,  35.5   ],\n",
       "       [  1.    ,   1.    ,  36.    ,  26.2875],\n",
       "       [  1.    ,   1.    ,  55.    ,  30.5   ],\n",
       "       [  2.    ,   1.    ,   0.83  ,  29.    ],\n",
       "       [  1.    ,   1.    ,  56.    ,  35.5   ],\n",
       "       [  2.    ,   1.    ,  28.    ,  33.    ],\n",
       "       [  3.    ,   0.    ,  15.    ,   7.225 ],\n",
       "       [  3.    ,   0.    ,  28.    ,  25.4667],\n",
       "       [  3.    ,   1.    ,  21.    ,   8.05  ],\n",
       "       [  3.    ,   1.    ,  28.    ,   8.05  ],\n",
       "       [  3.    ,   1.    ,  25.    ,   7.775 ],\n",
       "       [  2.    ,   1.    ,  28.    ,   0.    ],\n",
       "       [  3.    ,   1.    ,  35.    ,   8.05  ],\n",
       "       [  1.    ,   0.    ,  25.    , 151.55  ],\n",
       "       [  3.    ,   1.    ,  30.    ,  16.1   ],\n",
       "       [  2.    ,   0.    ,  28.    ,  13.    ],\n",
       "       [  3.    ,   1.    ,  26.    ,   7.8958],\n",
       "       [  1.    ,   0.    ,  28.    ,  51.8625],\n",
       "       [  3.    ,   1.    ,  23.    ,   7.8542],\n",
       "       [  3.    ,   1.    ,  30.    ,   7.25  ],\n",
       "       [  3.    ,   1.    ,  65.    ,   7.75  ],\n",
       "       [  3.    ,   1.    ,  42.    ,   8.4042],\n",
       "       [  3.    ,   1.    ,  44.    ,   7.925 ],\n",
       "       [  3.    ,   0.    ,  28.    ,   8.05  ],\n",
       "       [  1.    ,   1.    ,  28.    ,  27.7208],\n",
       "       [  3.    ,   1.    ,  22.    ,   7.5208],\n",
       "       [  3.    ,   0.    ,  28.    ,  14.4542],\n",
       "       [  2.    ,   1.    ,  32.    ,  73.5   ],\n",
       "       [  3.    ,   0.    ,  31.    ,   7.8542],\n",
       "       [  2.    ,   0.    ,  40.    ,  13.    ],\n",
       "       [  1.    ,   0.    ,  44.    ,  57.9792],\n",
       "       [  2.    ,   1.    ,  39.    ,  13.    ],\n",
       "       [  3.    ,   1.    ,  27.    ,   6.975 ],\n",
       "       [  3.    ,   0.    ,  27.    ,  11.1333],\n",
       "       [  3.    ,   1.    ,  24.    ,   9.5   ],\n",
       "       [  3.    ,   0.    ,  35.    ,  20.25  ],\n",
       "       [  2.    ,   1.    ,  25.    ,  13.    ],\n",
       "       [  3.    ,   1.    ,  19.    ,   6.75  ],\n",
       "       [  2.    ,   1.    ,  28.    ,  13.8625],\n",
       "       [  3.    ,   0.    ,  18.    ,   6.75  ],\n",
       "       [  2.    ,   0.    ,  25.    ,  26.    ],\n",
       "       [  2.    ,   1.    ,   3.    ,  18.75  ],\n",
       "       [  1.    ,   0.    ,  44.    ,  27.7208],\n",
       "       [  1.    ,   1.    ,  28.    ,  82.1708],\n",
       "       [  2.    ,   1.    ,  32.    ,  26.    ],\n",
       "       [  3.    ,   1.    ,  18.    ,   7.775 ],\n",
       "       [  3.    ,   0.    ,  28.    ,  22.3583],\n",
       "       [  1.    ,   1.    ,  19.    , 263.    ],\n",
       "       [  1.    ,   1.    ,  40.    ,  27.7208],\n",
       "       [  3.    ,   1.    ,  27.    ,   7.7958],\n",
       "       [  3.    ,   1.    ,  26.    ,   7.8875],\n",
       "       [  3.    ,   0.    ,  30.5   ,   7.75  ],\n",
       "       [  3.    ,   1.    ,  31.    ,   7.75  ],\n",
       "       [  1.    ,   1.    ,  62.    ,  26.55  ],\n",
       "       [  1.    ,   0.    ,  51.    ,  77.9583],\n",
       "       [  3.    ,   0.    ,  32.    ,  15.5   ],\n",
       "       [  1.    ,   0.    ,  58.    , 153.4625],\n",
       "       [  3.    ,   0.    ,  28.    ,   7.8292],\n",
       "       [  1.    ,   1.    ,  21.    ,  77.2875],\n",
       "       [  3.    ,   1.    ,  28.    ,  15.85  ],\n",
       "       [  3.    ,   1.    ,  45.    ,   8.05  ],\n",
       "       [  3.    ,   1.    ,  30.5   ,   8.05  ],\n",
       "       [  3.    ,   1.    ,  44.    ,   8.05  ],\n",
       "       [  3.    ,   1.    ,  28.    ,  24.15  ],\n",
       "       [  3.    ,   0.    ,  28.    ,   7.2292],\n",
       "       [  2.    ,   0.    ,  26.    ,  26.    ],\n",
       "       [  3.    ,   1.    ,  28.    ,   7.2292],\n",
       "       [  3.    ,   1.    ,  32.    ,  56.4958],\n",
       "       [  3.    ,   0.    ,  28.    ,   7.75  ],\n",
       "       [  1.    ,   0.    ,  52.    ,  78.2667],\n",
       "       [  3.    ,   0.    ,  28.    ,   8.1375],\n",
       "       [  1.    ,   1.    ,  28.    ,  26.55  ],\n",
       "       [  1.    ,   0.    ,  35.    ,  52.    ],\n",
       "       [  2.    ,   1.    ,  34.    ,  21.    ],\n",
       "       [  1.    ,   0.    ,  22.    ,  66.6   ],\n",
       "       [  2.    ,   1.    ,  62.    ,  10.5   ],\n",
       "       [  1.    ,   0.    ,  19.    ,  30.    ],\n",
       "       [  3.    ,   1.    ,  28.    ,  69.55  ],\n",
       "       [  2.    ,   0.    ,  40.    ,  39.    ],\n",
       "       [  3.    ,   1.    ,  25.    ,   7.775 ],\n",
       "       [  3.    ,   1.    ,  32.    ,   8.05  ],\n",
       "       [  1.    ,   1.    ,  28.    ,  26.    ],\n",
       "       [  1.    ,   0.    ,  31.    , 113.275 ],\n",
       "       [  1.    ,   0.    ,  42.    , 227.525 ],\n",
       "       [  2.    ,   0.    ,  36.    ,  13.    ],\n",
       "       [  2.    ,   1.    ,  23.    ,  13.    ],\n",
       "       [  3.    ,   0.    ,  24.    ,  15.85  ],\n",
       "       [  3.    ,   1.    ,  28.    ,  25.4667],\n",
       "       [  1.    ,   1.    ,  60.    ,  79.2   ],\n",
       "       [  3.    ,   1.    ,  28.    ,  14.4583],\n",
       "       [  3.    ,   1.    ,  28.    ,  56.4958],\n",
       "       [  3.    ,   1.    ,  28.    ,   8.4583],\n",
       "       [  3.    ,   1.    ,  33.    ,   7.8958],\n",
       "       [  2.    ,   1.    ,  18.    ,  73.5   ],\n",
       "       [  3.    ,   1.    ,  37.    ,   7.925 ],\n",
       "       [  3.    ,   1.    ,  28.    ,   7.8958],\n",
       "       [  1.    ,   1.    ,  37.    ,  52.5542],\n",
       "       [  2.    ,   1.    ,  36.    ,  10.5   ],\n",
       "       [  3.    ,   1.    ,  32.    ,   7.75  ],\n",
       "       [  1.    ,   1.    ,  45.    ,  35.5   ],\n",
       "       [  2.    ,   1.    ,  28.    ,  13.5   ],\n",
       "       [  3.    ,   1.    ,  50.    ,   8.05  ],\n",
       "       [  2.    ,   1.    ,  34.    ,  13.    ],\n",
       "       [  3.    ,   1.    ,  21.    ,   8.4333],\n",
       "       [  3.    ,   1.    ,  28.    ,  23.45  ],\n",
       "       [  3.    ,   0.    ,  17.    ,  14.4583],\n",
       "       [  2.    ,   1.    ,  16.    ,  10.5   ],\n",
       "       [  3.    ,   1.    ,  21.    ,   8.05  ],\n",
       "       [  1.    ,   1.    ,  11.    , 120.    ],\n",
       "       [  3.    ,   0.    ,  40.    ,   9.475 ],\n",
       "       [  2.    ,   0.    ,  24.    ,  13.    ],\n",
       "       [  1.    ,   0.    ,  14.    , 120.    ],\n",
       "       [  3.    ,   1.    ,  14.    ,  46.9   ],\n",
       "       [  3.    ,   1.    ,  15.    ,   7.2292],\n",
       "       [  3.    ,   1.    ,  28.    ,   7.2292],\n",
       "       [  1.    ,   0.    ,  22.    ,  49.5   ],\n",
       "       [  1.    ,   1.    ,  36.    , 120.    ],\n",
       "       [  3.    ,   0.    ,   2.    ,  10.4625],\n",
       "       [  1.    ,   1.    ,  38.    ,   0.    ],\n",
       "       [  3.    ,   0.    ,   2.    ,  27.9   ],\n",
       "       [  2.    ,   0.    ,  30.    ,  21.    ],\n",
       "       [  3.    ,   1.    ,  30.    ,   8.05  ],\n",
       "       [  3.    ,   1.    ,   4.    ,  27.9   ],\n",
       "       [  3.    ,   1.    ,  22.    ,   9.    ],\n",
       "       [  3.    ,   1.    ,  49.    ,   0.    ],\n",
       "       [  3.    ,   0.    ,  21.    ,   7.75  ],\n",
       "       [  2.    ,   1.    ,  54.    ,  14.    ],\n",
       "       [  3.    ,   1.    ,  25.    ,   0.    ],\n",
       "       [  3.    ,   1.    ,  29.    ,   7.775 ],\n",
       "       [  2.    ,   0.    ,  50.    ,  26.    ],\n",
       "       [  1.    ,   0.    ,  17.    , 108.9   ],\n",
       "       [  3.    ,   0.    ,   1.    ,  15.7417],\n",
       "       [  3.    ,   1.    ,  42.    ,   7.55  ],\n",
       "       [  3.    ,   1.    ,  48.    ,   7.8542],\n",
       "       [  3.    ,   1.    ,  16.    ,  34.375 ],\n",
       "       [  3.    ,   0.    ,  28.    ,   7.8792],\n",
       "       [  3.    ,   1.    ,  28.    ,   7.8958],\n",
       "       [  3.    ,   1.    ,  21.    ,   7.7958],\n",
       "       [  3.    ,   0.    ,  27.    ,   7.925 ],\n",
       "       [  3.    ,   1.    ,  51.    ,   7.0542],\n",
       "       [  1.    ,   0.    ,  30.    ,  93.5   ],\n",
       "       [  1.    ,   1.    ,  48.    ,  52.    ],\n",
       "       [  1.    ,   0.    ,  38.    ,  71.2833],\n",
       "       [  3.    ,   1.    ,  21.    ,   7.7333],\n",
       "       [  2.    ,   1.    ,  24.    ,  73.5   ],\n",
       "       [  3.    ,   1.    ,  28.    ,   7.25  ],\n",
       "       [  2.    ,   1.    ,  27.    ,  13.    ],\n",
       "       [  2.    ,   1.    ,  31.    ,  13.    ],\n",
       "       [  3.    ,   1.    ,   9.    ,  31.3875],\n",
       "       [  1.    ,   1.    ,  32.    ,  30.5   ],\n",
       "       [  3.    ,   0.    ,  22.    ,   7.75  ]])"
      ]
     },
     "execution_count": 38,
     "metadata": {},
     "output_type": "execute_result"
    }
   ],
   "source": [
    "X_test"
   ]
  },
  {
   "cell_type": "code",
   "execution_count": 39,
   "metadata": {},
   "outputs": [],
   "source": [
    "#Logistic Regression "
   ]
  },
  {
   "cell_type": "code",
   "execution_count": 40,
   "metadata": {},
   "outputs": [
    {
     "data": {
      "text/plain": [
       "LogisticRegression()"
      ]
     },
     "execution_count": 40,
     "metadata": {},
     "output_type": "execute_result"
    }
   ],
   "source": [
    "from sklearn.linear_model import LogisticRegression\n",
    "regressor = LogisticRegression()\n",
    "regressor.fit(X_train, Y_train)"
   ]
  },
  {
   "cell_type": "code",
   "execution_count": 41,
   "metadata": {},
   "outputs": [],
   "source": [
    "Y_pred = regressor.predict(X_test)"
   ]
  },
  {
   "cell_type": "code",
   "execution_count": 42,
   "metadata": {},
   "outputs": [
    {
     "data": {
      "text/plain": [
       "array([1, 0, 1, 0, 0, 0, 0, 0, 1, 0, 0, 1, 1, 0, 1, 0, 1, 1, 0, 1, 0, 1,\n",
       "       0, 0, 0, 0, 1, 0, 0, 0, 0, 0, 0, 1, 1, 0, 0, 0, 0, 0, 1, 0, 1, 0,\n",
       "       1, 0, 0, 0, 0, 0, 1, 0, 0, 1, 0, 1, 1, 1, 0, 0, 1, 0, 0, 0, 0, 0,\n",
       "       1, 1, 0, 1, 1, 0, 0, 1, 1, 0, 0, 0, 1, 0, 0, 1, 1, 1, 1, 1, 0, 0,\n",
       "       0, 0, 0, 1, 1, 0, 0, 1, 1, 1, 0, 1, 0, 1, 0, 1, 0, 1, 0, 0, 0, 1,\n",
       "       1, 1, 0, 1, 0, 0, 0, 0, 0, 0, 0, 0, 0, 0, 0, 0, 0, 0, 0, 0, 0, 0,\n",
       "       1, 0, 0, 1, 0, 1, 1, 0, 0, 0, 1, 0, 1, 0, 1, 1, 0, 0, 0, 0, 1, 0,\n",
       "       0, 0, 1, 1, 1, 0, 0, 0, 1, 0, 0, 1, 0, 1, 0, 1, 0, 0, 0, 0, 0, 0,\n",
       "       0, 1], dtype=int64)"
      ]
     },
     "execution_count": 42,
     "metadata": {},
     "output_type": "execute_result"
    }
   ],
   "source": [
    "Y_pred"
   ]
  },
  {
   "cell_type": "code",
   "execution_count": 43,
   "metadata": {},
   "outputs": [
    {
     "data": {
      "text/plain": [
       "array([0, 0, 1, 0, 1, 0, 0, 1, 0, 1, 0, 1, 1, 0, 1, 0, 1, 0, 1, 1, 0, 1,\n",
       "       1, 0, 0, 0, 0, 1, 1, 0, 1, 1, 0, 1, 0, 0, 0, 0, 0, 0, 0, 0, 1, 0,\n",
       "       1, 0, 0, 0, 0, 1, 0, 0, 0, 0, 0, 0, 1, 1, 0, 1, 1, 0, 1, 0, 0, 1,\n",
       "       0, 1, 1, 1, 0, 1, 0, 1, 0, 0, 1, 0, 0, 0, 0, 1, 0, 1, 1, 0, 0, 1,\n",
       "       0, 0, 0, 1, 0, 0, 1, 0, 1, 0, 1, 1, 0, 1, 1, 1, 0, 1, 1, 1, 0, 1,\n",
       "       1, 1, 0, 1, 0, 1, 0, 1, 0, 0, 0, 0, 0, 1, 0, 0, 0, 0, 0, 0, 0, 0,\n",
       "       0, 0, 0, 1, 0, 1, 1, 0, 0, 0, 1, 1, 0, 0, 0, 1, 0, 0, 0, 0, 0, 0,\n",
       "       1, 0, 1, 1, 1, 0, 0, 0, 1, 0, 1, 1, 0, 1, 1, 1, 0, 0, 0, 0, 1, 0,\n",
       "       1, 1], dtype=int64)"
      ]
     },
     "execution_count": 43,
     "metadata": {},
     "output_type": "execute_result"
    }
   ],
   "source": [
    "Y_test.values"
   ]
  },
  {
   "cell_type": "code",
   "execution_count": 44,
   "metadata": {},
   "outputs": [],
   "source": [
    "# Confusion Matrix\n",
    "\n",
    "from sklearn.metrics import confusion_matrix\n",
    "cm = confusion_matrix(Y_test, Y_pred)"
   ]
  },
  {
   "cell_type": "code",
   "execution_count": 45,
   "metadata": {},
   "outputs": [
    {
     "data": {
      "text/plain": [
       "array([[83, 22],\n",
       "       [31, 42]], dtype=int64)"
      ]
     },
     "execution_count": 45,
     "metadata": {},
     "output_type": "execute_result"
    }
   ],
   "source": [
    "cm"
   ]
  },
  {
   "cell_type": "code",
   "execution_count": 46,
   "metadata": {},
   "outputs": [],
   "source": [
    "# Accuracy Score\n",
    "\n",
    "from sklearn.metrics import accuracy_score\n",
    "acc = accuracy_score(Y_test, Y_pred)"
   ]
  },
  {
   "cell_type": "code",
   "execution_count": 47,
   "metadata": {},
   "outputs": [
    {
     "data": {
      "text/plain": [
       "0.702247191011236"
      ]
     },
     "execution_count": 47,
     "metadata": {},
     "output_type": "execute_result"
    }
   ],
   "source": [
    "acc"
   ]
  },
  {
   "cell_type": "code",
   "execution_count": 48,
   "metadata": {},
   "outputs": [
    {
     "data": {
      "text/plain": [
       "DecisionTreeClassifier()"
      ]
     },
     "execution_count": 48,
     "metadata": {},
     "output_type": "execute_result"
    }
   ],
   "source": [
    "# Decision Tree\n",
    "\n",
    "from sklearn.tree import DecisionTreeClassifier\n",
    "classifier = DecisionTreeClassifier()\n",
    "classifier.fit(X_train, Y_train)"
   ]
  },
  {
   "cell_type": "code",
   "execution_count": 49,
   "metadata": {},
   "outputs": [],
   "source": [
    "Y_pred1 = classifier.predict(X_test)"
   ]
  },
  {
   "cell_type": "code",
   "execution_count": 50,
   "metadata": {},
   "outputs": [],
   "source": [
    "# Confusion Matrix\n",
    "\n",
    "from sklearn.metrics import confusion_matrix\n",
    "cm1 = confusion_matrix(Y_test, Y_pred1)"
   ]
  },
  {
   "cell_type": "code",
   "execution_count": 51,
   "metadata": {},
   "outputs": [
    {
     "data": {
      "text/plain": [
       "array([[87, 18],\n",
       "       [26, 47]], dtype=int64)"
      ]
     },
     "execution_count": 51,
     "metadata": {},
     "output_type": "execute_result"
    }
   ],
   "source": [
    "cm1"
   ]
  },
  {
   "cell_type": "code",
   "execution_count": 52,
   "metadata": {},
   "outputs": [
    {
     "data": {
      "text/plain": [
       "0.7528089887640449"
      ]
     },
     "execution_count": 52,
     "metadata": {},
     "output_type": "execute_result"
    }
   ],
   "source": [
    "# Accuracy Score\n",
    "\n",
    "from sklearn.metrics import accuracy_score\n",
    "acc1 = accuracy_score(Y_test, Y_pred1)\n",
    "acc1"
   ]
  },
  {
   "cell_type": "code",
   "execution_count": 53,
   "metadata": {},
   "outputs": [
    {
     "data": {
      "text/plain": [
       "RandomForestClassifier()"
      ]
     },
     "execution_count": 53,
     "metadata": {},
     "output_type": "execute_result"
    }
   ],
   "source": [
    "# RandomForest Classification\n",
    "from sklearn.ensemble import RandomForestClassifier\n",
    "randomClassifier = RandomForestClassifier()\n",
    "randomClassifier.fit(X_train, Y_train)"
   ]
  },
  {
   "cell_type": "code",
   "execution_count": 54,
   "metadata": {},
   "outputs": [],
   "source": [
    "Y_pred2 = randomClassifier.predict(X_test)"
   ]
  },
  {
   "cell_type": "code",
   "execution_count": 55,
   "metadata": {},
   "outputs": [
    {
     "data": {
      "text/plain": [
       "array([[90, 15],\n",
       "       [22, 51]], dtype=int64)"
      ]
     },
     "execution_count": 55,
     "metadata": {},
     "output_type": "execute_result"
    }
   ],
   "source": [
    "# Confusion Matrix\n",
    "\n",
    "from sklearn.metrics import confusion_matrix\n",
    "cm2 = confusion_matrix(Y_test, Y_pred2)\n",
    "cm2"
   ]
  },
  {
   "cell_type": "code",
   "execution_count": 56,
   "metadata": {},
   "outputs": [
    {
     "data": {
      "text/plain": [
       "0.7921348314606742"
      ]
     },
     "execution_count": 56,
     "metadata": {},
     "output_type": "execute_result"
    }
   ],
   "source": [
    "# Accuracy Score\n",
    "\n",
    "from sklearn.metrics import accuracy_score\n",
    "acc2 = accuracy_score(Y_test, Y_pred2)\n",
    "acc2"
   ]
  },
  {
   "cell_type": "code",
   "execution_count": 57,
   "metadata": {},
   "outputs": [
    {
     "data": {
      "text/html": [
       "<div>\n",
       "<style scoped>\n",
       "    .dataframe tbody tr th:only-of-type {\n",
       "        vertical-align: middle;\n",
       "    }\n",
       "\n",
       "    .dataframe tbody tr th {\n",
       "        vertical-align: top;\n",
       "    }\n",
       "\n",
       "    .dataframe thead th {\n",
       "        text-align: right;\n",
       "    }\n",
       "</style>\n",
       "<table border=\"1\" class=\"dataframe\">\n",
       "  <thead>\n",
       "    <tr style=\"text-align: right;\">\n",
       "      <th></th>\n",
       "      <th>PClass</th>\n",
       "      <th>Sex</th>\n",
       "      <th>Age</th>\n",
       "      <th>Fare</th>\n",
       "      <th>Survived</th>\n",
       "    </tr>\n",
       "  </thead>\n",
       "  <tbody>\n",
       "    <tr>\n",
       "      <td>0</td>\n",
       "      <td>3.0</td>\n",
       "      <td>0.0</td>\n",
       "      <td>14.0</td>\n",
       "      <td>7.8542</td>\n",
       "      <td>1</td>\n",
       "    </tr>\n",
       "    <tr>\n",
       "      <td>1</td>\n",
       "      <td>3.0</td>\n",
       "      <td>1.0</td>\n",
       "      <td>28.0</td>\n",
       "      <td>69.5500</td>\n",
       "      <td>0</td>\n",
       "    </tr>\n",
       "    <tr>\n",
       "      <td>2</td>\n",
       "      <td>1.0</td>\n",
       "      <td>0.0</td>\n",
       "      <td>36.0</td>\n",
       "      <td>120.0000</td>\n",
       "      <td>1</td>\n",
       "    </tr>\n",
       "    <tr>\n",
       "      <td>3</td>\n",
       "      <td>1.0</td>\n",
       "      <td>1.0</td>\n",
       "      <td>36.0</td>\n",
       "      <td>78.8500</td>\n",
       "      <td>1</td>\n",
       "    </tr>\n",
       "    <tr>\n",
       "      <td>4</td>\n",
       "      <td>3.0</td>\n",
       "      <td>0.0</td>\n",
       "      <td>63.0</td>\n",
       "      <td>9.5875</td>\n",
       "      <td>0</td>\n",
       "    </tr>\n",
       "    <tr>\n",
       "      <td>...</td>\n",
       "      <td>...</td>\n",
       "      <td>...</td>\n",
       "      <td>...</td>\n",
       "      <td>...</td>\n",
       "      <td>...</td>\n",
       "    </tr>\n",
       "    <tr>\n",
       "      <td>173</td>\n",
       "      <td>2.0</td>\n",
       "      <td>1.0</td>\n",
       "      <td>27.0</td>\n",
       "      <td>13.0000</td>\n",
       "      <td>0</td>\n",
       "    </tr>\n",
       "    <tr>\n",
       "      <td>174</td>\n",
       "      <td>2.0</td>\n",
       "      <td>1.0</td>\n",
       "      <td>31.0</td>\n",
       "      <td>13.0000</td>\n",
       "      <td>0</td>\n",
       "    </tr>\n",
       "    <tr>\n",
       "      <td>175</td>\n",
       "      <td>3.0</td>\n",
       "      <td>1.0</td>\n",
       "      <td>9.0</td>\n",
       "      <td>31.3875</td>\n",
       "      <td>0</td>\n",
       "    </tr>\n",
       "    <tr>\n",
       "      <td>176</td>\n",
       "      <td>1.0</td>\n",
       "      <td>1.0</td>\n",
       "      <td>32.0</td>\n",
       "      <td>30.5000</td>\n",
       "      <td>0</td>\n",
       "    </tr>\n",
       "    <tr>\n",
       "      <td>177</td>\n",
       "      <td>3.0</td>\n",
       "      <td>0.0</td>\n",
       "      <td>22.0</td>\n",
       "      <td>7.7500</td>\n",
       "      <td>1</td>\n",
       "    </tr>\n",
       "  </tbody>\n",
       "</table>\n",
       "<p>178 rows × 5 columns</p>\n",
       "</div>"
      ],
      "text/plain": [
       "     PClass  Sex   Age      Fare  Survived\n",
       "0       3.0  0.0  14.0    7.8542         1\n",
       "1       3.0  1.0  28.0   69.5500         0\n",
       "2       1.0  0.0  36.0  120.0000         1\n",
       "3       1.0  1.0  36.0   78.8500         1\n",
       "4       3.0  0.0  63.0    9.5875         0\n",
       "..      ...  ...   ...       ...       ...\n",
       "173     2.0  1.0  27.0   13.0000         0\n",
       "174     2.0  1.0  31.0   13.0000         0\n",
       "175     3.0  1.0   9.0   31.3875         0\n",
       "176     1.0  1.0  32.0   30.5000         0\n",
       "177     3.0  0.0  22.0    7.7500         1\n",
       "\n",
       "[178 rows x 5 columns]"
      ]
     },
     "execution_count": 57,
     "metadata": {},
     "output_type": "execute_result"
    }
   ],
   "source": [
    "x_res = pd.DataFrame(X_test)\n",
    "y_res = pd.DataFrame(Y_pred2)\n",
    "result = pd.concat([x_res, y_res], axis = 1)\n",
    "result.columns = ['PClass','Sex','Age','Fare','Survived']\n",
    "result"
   ]
  },
  {
   "cell_type": "code",
   "execution_count": 58,
   "metadata": {},
   "outputs": [],
   "source": [
    "# MinMaxScaling Scaling\n",
    "\n",
    "from sklearn.preprocessing import MinMaxScaler\n",
    "norm_X1 = MinMaxScaler()\n",
    "X_train = norm_X1.fit_transform(X_train)\n",
    "norm_X2 = MinMaxScaler()\n",
    "X_test = norm_X2.fit_transform(X_test)"
   ]
  },
  {
   "cell_type": "code",
   "execution_count": 59,
   "metadata": {},
   "outputs": [
    {
     "data": {
      "text/plain": [
       "KNeighborsClassifier(metric='euclidean', n_neighbors=14)"
      ]
     },
     "execution_count": 59,
     "metadata": {},
     "output_type": "execute_result"
    }
   ],
   "source": [
    "# KNN Classification\n",
    "\n",
    "from sklearn.neighbors import KNeighborsClassifier\n",
    "kClassifier = KNeighborsClassifier(n_neighbors = 14, metric = 'euclidean')\n",
    "kClassifier.fit(X_train, Y_train)"
   ]
  },
  {
   "cell_type": "code",
   "execution_count": 60,
   "metadata": {},
   "outputs": [],
   "source": [
    "Y_pred3 = kClassifier.predict(X_test)"
   ]
  },
  {
   "cell_type": "code",
   "execution_count": 61,
   "metadata": {},
   "outputs": [
    {
     "data": {
      "text/plain": [
       "array([[97,  8],\n",
       "       [37, 36]], dtype=int64)"
      ]
     },
     "execution_count": 61,
     "metadata": {},
     "output_type": "execute_result"
    }
   ],
   "source": [
    "# Confusion Matrix\n",
    "\n",
    "from sklearn.metrics import confusion_matrix\n",
    "cm3 = confusion_matrix(Y_test, Y_pred3)\n",
    "cm3"
   ]
  },
  {
   "cell_type": "code",
   "execution_count": 62,
   "metadata": {},
   "outputs": [
    {
     "data": {
      "text/plain": [
       "0.7471910112359551"
      ]
     },
     "execution_count": 62,
     "metadata": {},
     "output_type": "execute_result"
    }
   ],
   "source": [
    "# Accuracy Score\n",
    "\n",
    "from sklearn.metrics import accuracy_score\n",
    "acc3 = accuracy_score(Y_test, Y_pred3)\n",
    "acc3"
   ]
  },
  {
   "cell_type": "markdown",
   "metadata": {},
   "source": [
    "# Conclusion"
   ]
  },
  {
   "cell_type": "markdown",
   "metadata": {},
   "source": [
    "#### RandomForest Classifier gives best prediciton among the classification models followed by Decision Tree having 0.79% and 0.75% accuracy respectively."
   ]
  }
 ],
 "metadata": {
  "kernelspec": {
   "display_name": "Python 3",
   "language": "python",
   "name": "python3"
  },
  "language_info": {
   "codemirror_mode": {
    "name": "ipython",
    "version": 3
   },
   "file_extension": ".py",
   "mimetype": "text/x-python",
   "name": "python",
   "nbconvert_exporter": "python",
   "pygments_lexer": "ipython3",
   "version": "3.7.4"
  }
 },
 "nbformat": 4,
 "nbformat_minor": 2
}
